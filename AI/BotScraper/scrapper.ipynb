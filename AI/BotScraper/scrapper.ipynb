{
 "cells": [
  {
   "cell_type": "markdown",
   "metadata": {},
   "source": [
    "# Bot Scrapper\n",
    "\n",
    "This is a bot scrapper that downloads images from google images and saves them in a folder.\n"
   ]
  },
  {
   "cell_type": "code",
   "execution_count": 10,
   "metadata": {},
   "outputs": [],
   "source": [
    "search_string = 'infrared imaging mines'\n",
    "folder_path = \".\\dataSet\\MineField\""
   ]
  },
  {
   "cell_type": "markdown",
   "metadata": {},
   "source": [
    "<span style=\"color:red\">Don't change the code below.</span>\n"
   ]
  },
  {
   "cell_type": "code",
   "execution_count": 11,
   "metadata": {},
   "outputs": [
    {
     "name": "stdout",
     "output_type": "stream",
     "text": [
      "Requirement already satisfied: selenium in c:\\users\\valen\\appdata\\local\\packages\\pythonsoftwarefoundation.python.3.11_qbz5n2kfra8p0\\localcache\\local-packages\\python311\\site-packages (4.16.0)\n",
      "Requirement already satisfied: urllib3 in c:\\users\\valen\\appdata\\local\\packages\\pythonsoftwarefoundation.python.3.11_qbz5n2kfra8p0\\localcache\\local-packages\\python311\\site-packages (2.1.0)\n",
      "Requirement already satisfied: trio~=0.17 in c:\\users\\valen\\appdata\\local\\packages\\pythonsoftwarefoundation.python.3.11_qbz5n2kfra8p0\\localcache\\local-packages\\python311\\site-packages (from selenium) (0.24.0)\n",
      "Requirement already satisfied: trio-websocket~=0.9 in c:\\users\\valen\\appdata\\local\\packages\\pythonsoftwarefoundation.python.3.11_qbz5n2kfra8p0\\localcache\\local-packages\\python311\\site-packages (from selenium) (0.11.1)\n",
      "Requirement already satisfied: certifi>=2021.10.8 in c:\\users\\valen\\appdata\\local\\packages\\pythonsoftwarefoundation.python.3.11_qbz5n2kfra8p0\\localcache\\local-packages\\python311\\site-packages (from selenium) (2023.11.17)\n",
      "Requirement already satisfied: attrs>=20.1.0 in c:\\users\\valen\\appdata\\local\\packages\\pythonsoftwarefoundation.python.3.11_qbz5n2kfra8p0\\localcache\\local-packages\\python311\\site-packages (from trio~=0.17->selenium) (23.2.0)\n",
      "Requirement already satisfied: sortedcontainers in c:\\users\\valen\\appdata\\local\\packages\\pythonsoftwarefoundation.python.3.11_qbz5n2kfra8p0\\localcache\\local-packages\\python311\\site-packages (from trio~=0.17->selenium) (2.4.0)\n",
      "Requirement already satisfied: idna in c:\\users\\valen\\appdata\\local\\packages\\pythonsoftwarefoundation.python.3.11_qbz5n2kfra8p0\\localcache\\local-packages\\python311\\site-packages (from trio~=0.17->selenium) (3.6)\n",
      "Requirement already satisfied: outcome in c:\\users\\valen\\appdata\\local\\packages\\pythonsoftwarefoundation.python.3.11_qbz5n2kfra8p0\\localcache\\local-packages\\python311\\site-packages (from trio~=0.17->selenium) (1.3.0.post0)\n",
      "Requirement already satisfied: sniffio>=1.3.0 in c:\\users\\valen\\appdata\\local\\packages\\pythonsoftwarefoundation.python.3.11_qbz5n2kfra8p0\\localcache\\local-packages\\python311\\site-packages (from trio~=0.17->selenium) (1.3.0)\n",
      "Requirement already satisfied: cffi>=1.14 in c:\\users\\valen\\appdata\\local\\packages\\pythonsoftwarefoundation.python.3.11_qbz5n2kfra8p0\\localcache\\local-packages\\python311\\site-packages (from trio~=0.17->selenium) (1.16.0)\n",
      "Requirement already satisfied: wsproto>=0.14 in c:\\users\\valen\\appdata\\local\\packages\\pythonsoftwarefoundation.python.3.11_qbz5n2kfra8p0\\localcache\\local-packages\\python311\\site-packages (from trio-websocket~=0.9->selenium) (1.2.0)\n",
      "Requirement already satisfied: pysocks!=1.5.7,<2.0,>=1.5.6 in c:\\users\\valen\\appdata\\local\\packages\\pythonsoftwarefoundation.python.3.11_qbz5n2kfra8p0\\localcache\\local-packages\\python311\\site-packages (from urllib3[socks]<3,>=1.26->selenium) (1.7.1)\n",
      "Requirement already satisfied: pycparser in c:\\users\\valen\\appdata\\local\\packages\\pythonsoftwarefoundation.python.3.11_qbz5n2kfra8p0\\localcache\\local-packages\\python311\\site-packages (from cffi>=1.14->trio~=0.17->selenium) (2.21)\n",
      "Requirement already satisfied: h11<1,>=0.9.0 in c:\\users\\valen\\appdata\\local\\packages\\pythonsoftwarefoundation.python.3.11_qbz5n2kfra8p0\\localcache\\local-packages\\python311\\site-packages (from wsproto>=0.14->trio-websocket~=0.9->selenium) (0.14.0)\n",
      "Note: you may need to restart the kernel to use updated packages.\n"
     ]
    }
   ],
   "source": [
    "%pip install selenium urllib3"
   ]
  },
  {
   "cell_type": "code",
   "execution_count": 12,
   "metadata": {},
   "outputs": [],
   "source": [
    "from __future__ import annotations  # noqa: F404\n",
    "\n",
    "import os\n",
    "import ssl\n",
    "import time\n",
    "\n",
    "import urllib3\n",
    "from selenium import webdriver\n",
    "from selenium.webdriver.common.by import By\n",
    "from selenium.webdriver.support import expected_conditions as ec\n",
    "from selenium.webdriver.support.ui import WebDriverWait\n",
    "\n",
    "iter = 0"
   ]
  },
  {
   "cell_type": "code",
   "execution_count": 13,
   "metadata": {},
   "outputs": [],
   "source": [
    "def create_nested_folder(folder_path: str) -> None:\n",
    "    folder_path = folder_path.rstrip(\"/\").rstrip(\"\\\\\")\n",
    "    folders = folder_path.split(os.sep)\n",
    "\n",
    "    path = \".\"\n",
    "    for folder in folders:\n",
    "        path = os.path.join(path, folder)\n",
    "        if not os.path.exists(path):\n",
    "            os.mkdir(path)"
   ]
  },
  {
   "cell_type": "code",
   "execution_count": 14,
   "metadata": {},
   "outputs": [],
   "source": [
    "def download_image(image_element) -> None:\n",
    "    global iter\n",
    "    global folder_path\n",
    "    try:\n",
    "        create_nested_folder(folder_path)\n",
    "\n",
    "        http = urllib3.PoolManager(cert_reqs=\"CERT_NONE\")\n",
    "        response = http.request(\n",
    "            \"GET\", image_element[0].get_attribute(\"src\"), preload_content=False\n",
    "        )\n",
    "        with open(f\"{folder_path}/{iter}.jpg\", \"wb\") as out_file:\n",
    "            out_file.write(response.data)\n",
    "        response.release_conn()\n",
    "        iter += 1\n",
    "    except Exception as e:\n",
    "        print(e)\n",
    "        pass"
   ]
  },
  {
   "cell_type": "code",
   "execution_count": 15,
   "metadata": {},
   "outputs": [],
   "source": [
    "class Driver:\n",
    "    def __init__(self: Driver) -> None:\n",
    "        options = webdriver.ChromeOptions()\n",
    "        options.add_argument(\"--remote-debugging-port=8000\")\n",
    "        self.driver = webdriver.Chrome()  # options.add_argument(\"--headless\")\n",
    "        self.wait = WebDriverWait(self.driver, 10)\n",
    "        # self.driver.maximize_window()\n",
    "        self.driver.set_window_size(1920, 1080)\n",
    "        self.driver.get(\"https://www.google.com/\")\n",
    "\n",
    "    def setup(self: Driver) -> None:\n",
    "        self.cookie_validator()\n",
    "\n",
    "    def cookie_validator(self: Driver) -> None:\n",
    "        self.wait.until(\n",
    "            ec.presence_of_element_located((By.CSS_SELECTOR, \"#L2AGLb > div\")),\n",
    "        )\n",
    "        Driver.driver.find_element(By.CSS_SELECTOR, \"#L2AGLb > div\").click()\n",
    "\n",
    "    def search(self: Driver, search_string: str) -> None:\n",
    "        self.driver.get(\n",
    "            f\"https://www.google.com/search?q={search_string}&tbm=isch\",\n",
    "        )\n",
    "\n",
    "    def get_images(self: Driver) -> list:\n",
    "        return self.driver.find_elements(\n",
    "            By.XPATH,\n",
    "            '//*[@id=\"islrg\"]/div[1]/div/a[1]/div/img',\n",
    "        )"
   ]
  },
  {
   "cell_type": "code",
   "execution_count": 16,
   "metadata": {},
   "outputs": [],
   "source": [
    "class Item:\n",
    "    def __init__(self: Item, url: str, driver: Driver) -> None:\n",
    "        self.url = url\n",
    "        self.Driver = driver\n",
    "\n",
    "    def get_children(self: Item) -> list:\n",
    "        return Driver.driver.find_elements(\n",
    "            By.XPATH,\n",
    "            '//*[@id=\"Sva75c\"]/div[2]/div[2]/div[2]/div[2]/c-wiz/div/div/div/div/c-wiz/div/div/div/div[1]/div[3]/div/div/a[1]/div[1]/img',\n",
    "        )\n",
    "\n",
    "    def download(self, image_element: list) -> None:\n",
    "        image_element[0].click()\n",
    "        global folder_path\n",
    "        global iter\n",
    "        try:\n",
    "            create_nested_folder(folder_path)\n",
    "\n",
    "            http = urllib3.PoolManager(cert_reqs=\"CERT_NONE\")\n",
    "            response = http.request(\n",
    "                \"GET\",\n",
    "                image_element[0].get_attribute(\"src\"),\n",
    "                preload_content=False,\n",
    "            )\n",
    "            with open(f\"{folder_path}/{iter}-fille.jpg\", \"wb\") as out_file:\n",
    "                out_file.write(response.data)\n",
    "            response.release_conn()\n",
    "            iter += 1\n",
    "        except Exception as e:\n",
    "            print(e)\n",
    "            pass\n",
    "\n",
    "        self.driver.execute_script(\"window.history.go(-1)\")"
   ]
  },
  {
   "cell_type": "code",
   "execution_count": 17,
   "metadata": {},
   "outputs": [],
   "source": [
    "Driver = Driver()\n",
    "Driver.setup()\n",
    "Driver.search(search_string)\n",
    "images = Driver.get_images()"
   ]
  },
  {
   "cell_type": "code",
   "execution_count": 18,
   "metadata": {},
   "outputs": [
    {
     "name": "stdout",
     "output_type": "stream",
     "text": [
      "https://media.cnn.com/api/v1/images/stellar/prod/230814175258-npw-pkg-mines-vpx.jpg?c=original\n",
      "Found 12 child images\n"
     ]
    },
    {
     "name": "stderr",
     "output_type": "stream",
     "text": [
      "C:\\Users\\valen\\AppData\\Local\\Packages\\PythonSoftwareFoundation.Python.3.11_qbz5n2kfra8p0\\LocalCache\\local-packages\\Python311\\site-packages\\urllib3\\connectionpool.py:1099: InsecureRequestWarning: Unverified HTTPS request is being made to host 'media.cnn.com'. Adding certificate verification is strongly advised. See: https://urllib3.readthedocs.io/en/latest/advanced-usage.html#tls-warnings\n",
      "  warnings.warn(\n"
     ]
    },
    {
     "name": "stdout",
     "output_type": "stream",
     "text": [
      "Found 12 child images\n",
      "https://i.insider.com/64dc92c85e5d5a00195ef8ab?width=1200&format=jpeg\n"
     ]
    },
    {
     "name": "stderr",
     "output_type": "stream",
     "text": [
      "C:\\Users\\valen\\AppData\\Local\\Packages\\PythonSoftwareFoundation.Python.3.11_qbz5n2kfra8p0\\LocalCache\\local-packages\\Python311\\site-packages\\urllib3\\connectionpool.py:1099: InsecureRequestWarning: Unverified HTTPS request is being made to host 'i.insider.com'. Adding certificate verification is strongly advised. See: https://urllib3.readthedocs.io/en/latest/advanced-usage.html#tls-warnings\n",
      "  warnings.warn(\n"
     ]
    },
    {
     "name": "stdout",
     "output_type": "stream",
     "text": [
      "Found 12 child images\n",
      "https://pbs.twimg.com/ext_tw_video_thumb/1691804156061679616/pu/img/Ma9l8TyLoeIcU-zg.jpg:large\n"
     ]
    },
    {
     "name": "stderr",
     "output_type": "stream",
     "text": [
      "C:\\Users\\valen\\AppData\\Local\\Packages\\PythonSoftwareFoundation.Python.3.11_qbz5n2kfra8p0\\LocalCache\\local-packages\\Python311\\site-packages\\urllib3\\connectionpool.py:1099: InsecureRequestWarning: Unverified HTTPS request is being made to host 'pbs.twimg.com'. Adding certificate verification is strongly advised. See: https://urllib3.readthedocs.io/en/latest/advanced-usage.html#tls-warnings\n",
      "  warnings.warn(\n"
     ]
    },
    {
     "name": "stdout",
     "output_type": "stream",
     "text": [
      "Found 12 child images\n",
      "https://sc04.alicdn.com/kf/H48988839788e41c0bd67868f2fbd10fdi/200170725/H48988839788e41c0bd67868f2fbd10fdi.jpg\n"
     ]
    },
    {
     "name": "stderr",
     "output_type": "stream",
     "text": [
      "C:\\Users\\valen\\AppData\\Local\\Packages\\PythonSoftwareFoundation.Python.3.11_qbz5n2kfra8p0\\LocalCache\\local-packages\\Python311\\site-packages\\urllib3\\connectionpool.py:1099: InsecureRequestWarning: Unverified HTTPS request is being made to host 'sc04.alicdn.com'. Adding certificate verification is strongly advised. See: https://urllib3.readthedocs.io/en/latest/advanced-usage.html#tls-warnings\n",
      "  warnings.warn(\n"
     ]
    },
    {
     "name": "stdout",
     "output_type": "stream",
     "text": [
      "Found 12 child images\n",
      "https://ae01.alicdn.com/kf/H4853c0ab094e4114b327871e9c289a525/Hti-Infrared-Imaging-Camera-HT-301-Industrial-PCB-Circuit-Floor-Heating-Pipe-Detection-Seek-Thermal-Imager.jpg\n"
     ]
    },
    {
     "name": "stderr",
     "output_type": "stream",
     "text": [
      "C:\\Users\\valen\\AppData\\Local\\Packages\\PythonSoftwareFoundation.Python.3.11_qbz5n2kfra8p0\\LocalCache\\local-packages\\Python311\\site-packages\\urllib3\\connectionpool.py:1099: InsecureRequestWarning: Unverified HTTPS request is being made to host 'ae01.alicdn.com'. Adding certificate verification is strongly advised. See: https://urllib3.readthedocs.io/en/latest/advanced-usage.html#tls-warnings\n",
      "  warnings.warn(\n"
     ]
    },
    {
     "name": "stdout",
     "output_type": "stream",
     "text": [
      "Found 12 child images\n",
      "https://i.ytimg.com/vi/MO8CWts2-P8/mqdefault.jpg\n",
      "Found 12 child images\n"
     ]
    },
    {
     "name": "stderr",
     "output_type": "stream",
     "text": [
      "C:\\Users\\valen\\AppData\\Local\\Packages\\PythonSoftwareFoundation.Python.3.11_qbz5n2kfra8p0\\LocalCache\\local-packages\\Python311\\site-packages\\urllib3\\connectionpool.py:1099: InsecureRequestWarning: Unverified HTTPS request is being made to host 'i.ytimg.com'. Adding certificate verification is strongly advised. See: https://urllib3.readthedocs.io/en/latest/advanced-usage.html#tls-warnings\n",
      "  warnings.warn(\n"
     ]
    },
    {
     "name": "stdout",
     "output_type": "stream",
     "text": [
      "https://www.businessinsider.in/thumb.cms?msid=102775367&width=1200&height=900\n"
     ]
    },
    {
     "name": "stderr",
     "output_type": "stream",
     "text": [
      "C:\\Users\\valen\\AppData\\Local\\Packages\\PythonSoftwareFoundation.Python.3.11_qbz5n2kfra8p0\\LocalCache\\local-packages\\Python311\\site-packages\\urllib3\\connectionpool.py:1099: InsecureRequestWarning: Unverified HTTPS request is being made to host 'www.businessinsider.in'. Adding certificate verification is strongly advised. See: https://urllib3.readthedocs.io/en/latest/advanced-usage.html#tls-warnings\n",
      "  warnings.warn(\n"
     ]
    },
    {
     "name": "stdout",
     "output_type": "stream",
     "text": [
      "Found 12 child images\n",
      "https://i.ytimg.com/vi/9HLdiJAZNTM/maxresdefault.jpg\n"
     ]
    },
    {
     "name": "stderr",
     "output_type": "stream",
     "text": [
      "C:\\Users\\valen\\AppData\\Local\\Packages\\PythonSoftwareFoundation.Python.3.11_qbz5n2kfra8p0\\LocalCache\\local-packages\\Python311\\site-packages\\urllib3\\connectionpool.py:1099: InsecureRequestWarning: Unverified HTTPS request is being made to host 'i.ytimg.com'. Adding certificate verification is strongly advised. See: https://urllib3.readthedocs.io/en/latest/advanced-usage.html#tls-warnings\n",
      "  warnings.warn(\n"
     ]
    },
    {
     "name": "stdout",
     "output_type": "stream",
     "text": [
      "Found 12 child images\n",
      "https://volatusaerospace.com/wp-content/uploads/2022/04/Ukraine-ISR-Drones-Thermal-1024x778.png\n"
     ]
    },
    {
     "name": "stderr",
     "output_type": "stream",
     "text": [
      "C:\\Users\\valen\\AppData\\Local\\Packages\\PythonSoftwareFoundation.Python.3.11_qbz5n2kfra8p0\\LocalCache\\local-packages\\Python311\\site-packages\\urllib3\\connectionpool.py:1099: InsecureRequestWarning: Unverified HTTPS request is being made to host 'volatusaerospace.com'. Adding certificate verification is strongly advised. See: https://urllib3.readthedocs.io/en/latest/advanced-usage.html#tls-warnings\n",
      "  warnings.warn(\n"
     ]
    },
    {
     "name": "stdout",
     "output_type": "stream",
     "text": [
      "Found 12 child images\n",
      "https://external-preview.redd.it/new-demining-tactic-by-ukrainian-sappers-mines-heated-by-v0-bmJxZW9rb2Q0YmliMT64lf9Qwl9vjGdFC0KTaJzgmHx-WjXnqAa8J6MPMQFQ.png?width=640&crop=smart&format=pjpg&auto=webp&s=122fabf8157568e45d70670ae96d8e1779c942d5\n"
     ]
    },
    {
     "name": "stderr",
     "output_type": "stream",
     "text": [
      "C:\\Users\\valen\\AppData\\Local\\Packages\\PythonSoftwareFoundation.Python.3.11_qbz5n2kfra8p0\\LocalCache\\local-packages\\Python311\\site-packages\\urllib3\\connectionpool.py:1099: InsecureRequestWarning: Unverified HTTPS request is being made to host 'external-preview.redd.it'. Adding certificate verification is strongly advised. See: https://urllib3.readthedocs.io/en/latest/advanced-usage.html#tls-warnings\n",
      "  warnings.warn(\n"
     ]
    },
    {
     "name": "stdout",
     "output_type": "stream",
     "text": [
      "Found 12 child images\n",
      "https://img.pravda.com/images/doc/c/1/c121b89-skylab-new-military-grade-drone--lightrocket-via-getty-images-.jpg\n"
     ]
    },
    {
     "name": "stderr",
     "output_type": "stream",
     "text": [
      "C:\\Users\\valen\\AppData\\Local\\Packages\\PythonSoftwareFoundation.Python.3.11_qbz5n2kfra8p0\\LocalCache\\local-packages\\Python311\\site-packages\\urllib3\\connectionpool.py:1099: InsecureRequestWarning: Unverified HTTPS request is being made to host 'img.pravda.com'. Adding certificate verification is strongly advised. See: https://urllib3.readthedocs.io/en/latest/advanced-usage.html#tls-warnings\n",
      "  warnings.warn(\n"
     ]
    },
    {
     "name": "stdout",
     "output_type": "stream",
     "text": [
      "Found 12 child images\n",
      "https://media.licdn.com/dms/image/D4E12AQH0KkGtd_1ruA/article-cover_image-shrink_600_2000/0/1692789707251?e=2147483647&v=beta&t=gaGDp5bNaT0jI2HUmfnNBUkUBHhVSHJK3BxuakUPZNw\n"
     ]
    },
    {
     "name": "stderr",
     "output_type": "stream",
     "text": [
      "C:\\Users\\valen\\AppData\\Local\\Packages\\PythonSoftwareFoundation.Python.3.11_qbz5n2kfra8p0\\LocalCache\\local-packages\\Python311\\site-packages\\urllib3\\connectionpool.py:1099: InsecureRequestWarning: Unverified HTTPS request is being made to host 'media.licdn.com'. Adding certificate verification is strongly advised. See: https://urllib3.readthedocs.io/en/latest/advanced-usage.html#tls-warnings\n",
      "  warnings.warn(\n"
     ]
    },
    {
     "name": "stdout",
     "output_type": "stream",
     "text": [
      "Found 12 child images\n",
      "https://www.researchgate.net/publication/331430226/figure/fig1/AS:732313369456641@1551608521473/An-instance-of-the-underground-mine-experiment-a-shows-the-thermal-camera-equipped.png\n"
     ]
    },
    {
     "name": "stderr",
     "output_type": "stream",
     "text": [
      "C:\\Users\\valen\\AppData\\Local\\Packages\\PythonSoftwareFoundation.Python.3.11_qbz5n2kfra8p0\\LocalCache\\local-packages\\Python311\\site-packages\\urllib3\\connectionpool.py:1099: InsecureRequestWarning: Unverified HTTPS request is being made to host 'www.researchgate.net'. Adding certificate verification is strongly advised. See: https://urllib3.readthedocs.io/en/latest/advanced-usage.html#tls-warnings\n",
      "  warnings.warn(\n"
     ]
    },
    {
     "name": "stdout",
     "output_type": "stream",
     "text": [
      "data:image/jpeg;base64,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\n",
      "No host specified.\n",
      "Found 12 child images\n",
      "Found 12 child images\n",
      "https://i.insider.com/64dc92c45e5d5a00195ef8a7?width=1136&format=jpeg\n"
     ]
    },
    {
     "name": "stderr",
     "output_type": "stream",
     "text": [
      "C:\\Users\\valen\\AppData\\Local\\Packages\\PythonSoftwareFoundation.Python.3.11_qbz5n2kfra8p0\\LocalCache\\local-packages\\Python311\\site-packages\\urllib3\\connectionpool.py:1099: InsecureRequestWarning: Unverified HTTPS request is being made to host 'i.insider.com'. Adding certificate verification is strongly advised. See: https://urllib3.readthedocs.io/en/latest/advanced-usage.html#tls-warnings\n",
      "  warnings.warn(\n"
     ]
    }
   ],
   "source": [
    "ctx = ssl.create_default_context()\n",
    "ctx.check_hostname = False\n",
    "ctx.verify_mode = ssl.CERT_NONE\n",
    "\n",
    "\n",
    "def find_elements(xpath):\n",
    "    return WebDriverWait(Driver.driver, 10).until(\n",
    "        ec.presence_of_all_elements_located((By.XPATH, xpath))\n",
    "    )\n",
    "\n",
    "\n",
    "for index, image in enumerate(images):\n",
    "    try:\n",
    "        image.click()\n",
    "\n",
    "        main_image_xpath = '//*[@id=\"Sva75c\"]/div[2]/div[2]/div[2]/div[2]/c-wiz/div/div/div/div/div[3]/div[1]/a/img[1]'\n",
    "        main_image_element = find_elements(main_image_xpath)\n",
    "        print(main_image_element[0].get_attribute(\"src\"))\n",
    "        download_image(main_image_element)\n",
    "        children_xpath = '//*[@id=\"Sva75c\"]/div[2]/div[2]/div[2]/div[2]/c-wiz/div/div/div/div/c-wiz/div/div/div/div[1]/div[3]/div/div/a[1]/div[1]/img'\n",
    "        children = find_elements(children_xpath)\n",
    "        print(f\"Found {len(children)} child images\")\n",
    "        time.sleep(1)\n",
    "\n",
    "        for child_id, child in enumerate(children):\n",
    "            try:\n",
    "                children = find_elements(children_xpath)\n",
    "                child = children[child_id]\n",
    "                child.click()\n",
    "                print(f\"Found {len(children)} child images\")\n",
    "                time.sleep(1)\n",
    "                child_image_xpath = '//*[@id=\"Sva75c\"]/div[2]/div[2]/div[2]/div[2]/c-wiz/div/div/div/div/div[3]/div[1]/a/img[1]'\n",
    "                child_image_element = find_elements(main_image_xpath)\n",
    "                print(child_image_element[0].get_attribute(\"src\"))\n",
    "                download_image(child_image_element)\n",
    "                Driver.driver.execute_script(\"window.history.go(-1)\")\n",
    "            except Exception as e:\n",
    "                print(f\"Error processing child image {child_id}: {e}\")\n",
    "    except Exception as e:\n",
    "        print(f\"Error processing main image {index}: {e}\")"
   ]
  }
 ],
 "metadata": {
  "kernelspec": {
   "display_name": "Python 3",
   "language": "python",
   "name": "python3"
  },
  "language_info": {
   "codemirror_mode": {
    "name": "ipython",
    "version": 3
   },
   "file_extension": ".py",
   "mimetype": "text/x-python",
   "name": "python",
   "nbconvert_exporter": "python",
   "pygments_lexer": "ipython3",
   "version": "3.11.7"
  }
 },
 "nbformat": 4,
 "nbformat_minor": 2
}
