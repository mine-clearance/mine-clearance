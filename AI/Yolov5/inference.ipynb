{
 "cells": [
  {
   "cell_type": "code",
   "execution_count": 2,
   "metadata": {},
   "outputs": [],
   "source": [
    "from roboflow import Roboflow\n",
    "\n",
    "rf = Roboflow(api_key=\"Rv0kV1kuqKXU356KKkIl\")\n"
   ]
  },
  {
   "cell_type": "markdown",
   "metadata": {},
   "source": [
    "Projet sur le dataset avec les fausses mines remplies de charbon / images vision thermique : \n",
    "https://www.sciencedirect.com/science/article/pii/S2352340923005437"
   ]
  },
  {
   "cell_type": "code",
   "execution_count": 8,
   "metadata": {},
   "outputs": [
    {
     "name": "stdout",
     "output_type": "stream",
     "text": [
      "loading Roboflow workspace...\n",
      "loading Roboflow project...\n",
      "{'predictions': [{'x': 263, 'y': 211, 'width': 33, 'height': 41, 'confidence': 0.7414984107017517, 'class': 'mine', 'class_id': 0, 'detection_id': '01813b90-d6f0-4aea-8dd0-068dcfbfed7b', 'image_path': 'C:\\\\Users\\\\valen\\\\Documents\\\\Deminage\\\\mine-clearance\\\\AI\\\\Yolov5\\\\data\\\\input\\\\test_mine9m.jpg', 'prediction_type': 'ObjectDetectionModel'}, {'x': 695, 'y': 229, 'width': 47, 'height': 57, 'confidence': 0.5377447605133057, 'class': 'mine', 'class_id': 0, 'detection_id': 'ca206c7d-ac56-4975-8202-7ba25304a5c8', 'image_path': 'C:\\\\Users\\\\valen\\\\Documents\\\\Deminage\\\\mine-clearance\\\\AI\\\\Yolov5\\\\data\\\\input\\\\test_mine9m.jpg', 'prediction_type': 'ObjectDetectionModel'}], 'image': {'width': '720', 'height': '480'}}\n"
     ]
    }
   ],
   "source": [
    "project = rf.workspace().project(\"infrarouge-mines\")\n",
    "model = project.version(3).model\n",
    "\n",
    "# infer on a local image\n",
    "print(model.predict(\"C:\\\\Users\\\\valen\\\\Documents\\\\Deminage\\\\mine-clearance\\\\AI\\\\Yolov5\\\\data\\\\input\\\\test_mine9m.jpg\", confidence=40, overlap=30).json())\n",
    "\n",
    "# visualize your prediction\n",
    "model.predict(\"C:\\\\Users\\\\valen\\\\Documents\\\\Deminage\\\\mine-clearance\\\\AI\\\\Yolov5\\\\data\\\\input\\\\test_mine9m.jpg\", confidence=40, overlap=30).save(\"C:\\\\Users\\\\valen\\\\Documents\\\\Deminage\\\\mine-clearance\\\\AI\\\\Yolov5\\\\data\\\\output\\\\prediction_9m.jpg\")\n"
   ]
  },
  {
   "cell_type": "markdown",
   "metadata": {},
   "source": [
    "Projet sur le dataset avec les PFM-1 / images vision thermique : \n",
    "https://universe.roboflow.com/mineguard/mineguard-thermal-hnhpg/dataset/1"
   ]
  },
  {
   "cell_type": "code",
   "execution_count": 9,
   "metadata": {},
   "outputs": [
    {
     "name": "stdout",
     "output_type": "stream",
     "text": [
      "loading Roboflow workspace...\n",
      "loading Roboflow project...\n",
      "{'predictions': [{'x': 188.0, 'y': 318.5, 'width': 22.0, 'height': 29.0, 'confidence': 0.8430050611495972, 'class': 'landmine', 'class_id': 0, 'detection_id': '1f284cc8-1af3-4c96-9bcb-6d307fa59a2f', 'image_path': 'C:\\\\Users\\\\valen\\\\Documents\\\\Deminage\\\\mine-clearance\\\\AI\\\\Yolov5\\\\data\\\\input\\\\MARK_3_158_png.rf.0a4c6989ee9888e51ae6b4d8025ead57.jpg', 'prediction_type': 'ObjectDetectionModel'}], 'image': {'width': '640', 'height': '640'}}\n"
     ]
    }
   ],
   "source": [
    "project = rf.workspace().project(\"mineguard-thermal-hnhpg\")\n",
    "model = project.version(1).model\n",
    "\n",
    "# infer on a local image\n",
    "print(model.predict(\"C:\\\\Users\\\\valen\\\\Documents\\\\Deminage\\\\mine-clearance\\\\AI\\\\Yolov5\\\\data\\\\input\\\\MARK_3_158_png.rf.0a4c6989ee9888e51ae6b4d8025ead57.jpg\", confidence=40, overlap=30).json())\n",
    "\n",
    "# visualize your prediction\n",
    "model.predict(\"C:\\\\Users\\\\valen\\\\Documents\\\\Deminage\\\\mine-clearance\\\\AI\\\\Yolov5\\\\data\\\\input\\\\MARK_3_158_png.rf.0a4c6989ee9888e51ae6b4d8025ead57.jpg\", confidence=40, overlap=30).save(\"C:\\\\Users\\\\valen\\\\Documents\\\\Deminage\\\\mine-clearance\\\\AI\\\\Yolov5\\\\data\\\\output\\\\prediction_thermal_PFM-1.jpg\")\n"
   ]
  }
 ],
 "metadata": {
  "kernelspec": {
   "display_name": "Python 3",
   "language": "python",
   "name": "python3"
  },
  "language_info": {
   "codemirror_mode": {
    "name": "ipython",
    "version": 3
   },
   "file_extension": ".py",
   "mimetype": "text/x-python",
   "name": "python",
   "nbconvert_exporter": "python",
   "pygments_lexer": "ipython3",
   "version": "3.11.8"
  }
 },
 "nbformat": 4,
 "nbformat_minor": 2
}
